{
 "cells": [
  {
   "cell_type": "code",
   "id": "9605dafabec6c5fb",
   "metadata": {
    "collapsed": true,
    "ExecuteTime": {
     "end_time": "2024-08-05T09:26:49.776299Z",
     "start_time": "2024-08-05T09:26:47.780081Z"
    }
   },
   "source": [
    "import wandb\n",
    "import numpy as np\n",
    "# Set your API key\n",
    "wandb.login()\n",
    "\n",
    "# Set the source and destination projects\n",
    "src_entity = \"cl-probing\"\n",
    "src_project = \"contrastive_fns\"\n",
    "dst_entity = \"cl-probing\"\n",
    "dst_project = \"logsumexp_penalty\"\n",
    "\n",
    "# Initialize the wandb API\n",
    "api = wandb.Api()\n",
    "\n",
    "# Get the runs from the source project\n",
    "exp_names = [\"ant_l_symmetric_infonce_ef_l2\"]\n",
    "\n",
    "filters = {\n",
    "    \"config.batch_size\": 256,  # example filter, modify as needed\n",
    "    \"config.exp_name\": {\"$in\": exp_names},\n",
    "    \"state\": \"finished\"\n",
    "}\n",
    "runs = api.runs(path=f\"{src_entity}/{src_project}\", filters=filters)\n",
    "name = \"ant_l_symmetric_infonce_ef_l2_p_0.1\"\n",
    "\n",
    "print(len(runs))"
   ],
   "execution_count": 1,
   "outputs": []
  },
  {
   "metadata": {
    "ExecuteTime": {
     "end_time": "2024-08-05T09:32:50.979506Z",
     "start_time": "2024-08-05T09:26:49.778492Z"
    }
   },
   "cell_type": "code",
   "source": [
    "# Iterate through the runs and copy them to the destination project\n",
    "for run in runs: \n",
    "    history = run.history()\n",
    "    files = run.files()\n",
    "\n",
    "\n",
    "    # Create a new run in the destination project\n",
    "\n",
    "    # Log the history to the new run\n",
    "    new_run = wandb.init(\n",
    "        project=dst_project,\n",
    "        entity=dst_entity,\n",
    "        config=run.config,\n",
    "        name=name,\n",
    "        resume=\"allow\"\n",
    "    )\n",
    "    for index, row in history.iterrows():\n",
    "        step_size = history['_step'].values[1]\n",
    "        new_run.log(row.to_dict(), step= int(index * step_size)//2)\n",
    "\n",
    "    # Upload the files to the new run\n",
    "    for file in files:\n",
    "        file.download(replace=True)\n",
    "        new_run.save(file.name, policy=\"now\")\n",
    "\n",
    "    # Finish the new run\n",
    "    new_run.finish()\n"
   ],
   "id": "initial_id",
   "execution_count": 2,
   "outputs": []
  },
  {
   "metadata": {
    "ExecuteTime": {
     "end_time": "2024-08-05T09:32:50.985851Z",
     "start_time": "2024-08-05T09:32:50.981729Z"
    }
   },
   "cell_type": "code",
   "source": "",
   "id": "289b245ce309476c",
   "execution_count": 2,
   "outputs": []
  }
 ],
 "metadata": {
  "kernelspec": {
   "display_name": "Python 3",
   "language": "python",
   "name": "python3"
  },
  "language_info": {
   "codemirror_mode": {
    "name": "ipython",
    "version": 2
   },
   "file_extension": ".py",
   "mimetype": "text/x-python",
   "name": "python",
   "nbconvert_exporter": "python",
   "pygments_lexer": "ipython2",
   "version": "2.7.6"
  }
 },
 "nbformat": 4,
 "nbformat_minor": 5
}
