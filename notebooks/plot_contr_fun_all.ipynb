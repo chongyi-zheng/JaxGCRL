{
 "cells": [
  {
   "metadata": {
    "ExecuteTime": {
     "end_time": "2024-08-20T12:42:58.084737Z",
     "start_time": "2024-08-20T12:42:57.768043Z"
    }
   },
   "cell_type": "code",
   "source": [
    "import matplotlib.pyplot as plt\n",
    "import matplotlib\n",
    "import wandb\n",
    "from rliable import library as rly\n",
    "from rliable import metrics\n",
    "from rliable import plot_utils\n",
    "import seaborn as sns\n",
    "import numpy as np\n",
    "import os\n",
    "\n",
    "from utils import *"
   ],
   "id": "dd5b2ca40888f75c",
   "execution_count": 1,
   "outputs": []
  },
  {
   "metadata": {
    "ExecuteTime": {
     "end_time": "2024-08-20T12:42:58.099697Z",
     "start_time": "2024-08-20T12:42:58.096395Z"
    }
   },
   "cell_type": "code",
   "source": [
    "plt.rcParams[\"legend.title_fontsize\"] = \"large\"\n",
    "plt.rcParams.update({'font.size': 12})\n",
    "\n",
    "matplotlib.rc(\"xtick\", labelsize=48)\n",
    "matplotlib.rc(\"ytick\", labelsize=48)"
   ],
   "id": "bda376939ce94fd7",
   "execution_count": 2,
   "outputs": []
  },
  {
   "metadata": {
    "ExecuteTime": {
     "end_time": "2024-08-20T12:42:58.929573Z",
     "start_time": "2024-08-20T12:42:58.635361Z"
    }
   },
   "cell_type": "code",
   "source": [
    "# Initialize the wandb API\n",
    "api = wandb.Api()\n",
    "\n",
    "# Define your project and entity (replace with your specific values)\n",
    "entity = \"cl-probing\"  # e.g., your username or team name\n",
    "project = \"contrastive_fns\" \n",
    "figures_path = f\"./figures/{project}\"\n",
    "os.makedirs(figures_path, exist_ok=True)\n",
    "take_x_seeds = 10\n",
    "window_size = 10\n",
    "use_se = True"
   ],
   "id": "dd66b41331b86644",
   "execution_count": 3,
   "outputs": []
  },
  {
   "metadata": {
    "ExecuteTime": {
     "end_time": "2024-08-20T12:42:59.035431Z",
     "start_time": "2024-08-20T12:42:59.032865Z"
    }
   },
   "cell_type": "code",
   "source": "",
   "id": "17298b3b40b349bf",
   "execution_count": null,
   "outputs": []
  },
  {
   "metadata": {
    "ExecuteTime": {
     "end_time": "2024-08-20T12:42:59.059084Z",
     "start_time": "2024-08-20T12:42:59.055524Z"
    }
   },
   "cell_type": "code",
   "source": [
    "exp_names = [\n",
    "    \"ant_l_ipo_ef_l2\",\n",
    "    \"ant_l_dpo_ef_l2\",\n",
    "    \"ant_l_sppo_ef_l2\",\n",
    "    \"ant_l_fb_ef_l2\",\n",
    "    \"ant_l_flatnce_backward_ef_l2\",\n",
    "    \"ant_l_binary_ef_l2\",\n",
    "    \"ant_l_infonce_ef_l2\",\n",
    "    \"ant_l_infonce_backward_ef_l2\",\n",
    "    \"ant_l_flatnce_ef_l2\",\n",
    "    \"ant_l_symmetric_infonce_ef_l2\",\n",
    "]\n",
    "\n",
    "exp_names_mapping = {\n",
    "    \"ant_l_ipo_ef_l2\": \"IPO\",\n",
    "    \"ant_l_dpo_ef_l2\": \"DPO\",\n",
    "    \"ant_l_sppo_ef_l2\": \"SPPO\",\n",
    "    \"ant_l_fb_ef_l2\": \"Forward-Backward\",\n",
    "    \"ant_l_flatnce_backward_ef_l2\": \"FlatNCE Backward\",\n",
    "    \"ant_l_flatnce_ef_l2\": \"FlatNCE\",\n",
    "    \"ant_l_infonce_ef_l2\": \"InfoNCE\",\n",
    "    \"ant_l_infonce_backward_ef_l2\": \"InfoNCE Backward\",\n",
    "    \"ant_l_symmetric_infonce_ef_l2\": \"Symmetric InfoNCE\",\n",
    "    \"ant_l_binary_ef_l2\": \"Binary\",\n",
    "}\n"
   ],
   "id": "ac19279bde52ecf1",
   "execution_count": 4,
   "outputs": []
  },
  {
   "metadata": {
    "ExecuteTime": {
     "end_time": "2024-08-20T12:42:59.148989Z",
     "start_time": "2024-08-20T12:42:59.108471Z"
    }
   },
   "cell_type": "code",
   "source": [
    "env_title_mapping = {\n",
    "    \"ant_ball\": \"Ant Soccer\",\n",
    "    \"ant\": \"Ant\",\n",
    "    \"ant_big_maze\": \"Ant Big Maze\",\n",
    "    \"ant_u_maze\": \"Ant U-Maze\",\n",
    "    \"pusher_hard\": \"Pusher\"\n",
    "}\n",
    "metric_to_metric_label_dict = {\n",
    "    \"eval/episode_success\": \"Time near goal\",\n",
    "    \"eval/episode_success_any\": \"Success rate\",\n",
    "}"
   ],
   "id": "87c3886695f9c5ff",
   "execution_count": 5,
   "outputs": []
  },
  {
   "metadata": {},
   "cell_type": "markdown",
   "source": "# Results for all envs",
   "id": "34edb8f1025dc7e9"
  },
  {
   "metadata": {
    "ExecuteTime": {
     "end_time": "2024-08-20T12:42:59.223072Z",
     "start_time": "2024-08-20T12:42:59.172085Z"
    }
   },
   "cell_type": "code",
   "source": [
    "metrics_ = [\"eval/episode_success_any\", \"eval/episode_success\"]\n",
    "single_env=False\n"
   ],
   "id": "913c828ec013d38c",
   "execution_count": 6,
   "outputs": []
  },
  {
   "metadata": {
    "ExecuteTime": {
     "end_time": "2024-08-20T12:42:59.518709Z",
     "start_time": "2024-08-20T12:42:59.246477Z"
    }
   },
   "cell_type": "code",
   "source": [
    "# Define filters for the run config (replace with your specific filters)\n",
    "filters = {\n",
    "    \"config.batch_size\": 256,  # example filter, modify as needed\n",
    "    \"config.exp_name\": {\"$in\": exp_names},\n",
    "    \"config.env_name\": {\"$in\": list(env_title_mapping.keys())},\n",
    "    \"state\": \"finished\"\n",
    "}\n",
    "\n",
    "# Fetch the runs from the API\n",
    "runs = api.runs(path=f\"{entity}/{project}\", filters=filters)"
   ],
   "id": "fac58890f07195e5",
   "execution_count": 7,
   "outputs": []
  },
  {
   "metadata": {
    "ExecuteTime": {
     "end_time": "2024-08-20T12:42:59.924773Z",
     "start_time": "2024-08-20T12:42:59.549547Z"
    }
   },
   "cell_type": "code",
   "source": "len(runs)",
   "id": "543bd33cb0cbccba",
   "execution_count": 8,
   "outputs": []
  },
  {
   "metadata": {
    "ExecuteTime": {
     "end_time": "2024-08-20T12:43:23.822048Z",
     "start_time": "2024-08-20T12:42:59.963816Z"
    }
   },
   "cell_type": "code",
   "source": [
    "for metric in metrics_:\n",
    "    metric_label = metric_to_metric_label_dict[metric]\n",
    "    data = aggregate_data_from_wandb(\n",
    "        runs, metric, exp_names, exp_names_mapping, env_title_mapping, take_x_seeds, single_env\n",
    "    )\n",
    "    \n",
    "    # Smoothing\n",
    "    for key, item in data.items():\n",
    "        data[key] = np.apply_along_axis(moving_average_smoothing, axis=-1, arr=item, window_size=window_size) \n",
    "    \n",
    "    data_flattened = {key: np.mean(elem[:,:, -10:], axis=-1) for key, elem in data.items()}\n",
    "    \n",
    "    thresholds = np.linspace(0.0, 1, 41)\n",
    "    score_distributions, score_distributions_cis = rly.create_performance_profile(\n",
    "        data_flattened, thresholds\n",
    "    )\n",
    "    \n",
    "    # Plot score distributions\n",
    "    # fig, ax = plt.subplots(ncols=1, figsize=(7, 5))\n",
    "    # plot_utils.plot_performance_profiles(\n",
    "    #     score_distributions,\n",
    "    #     thresholds,\n",
    "    #     performance_profile_cis=score_distributions_cis,\n",
    "    #     colors=dict(zip(list(data_flattened.keys()), sns.color_palette(\"colorblind\"))),\n",
    "    #     xlabel=rf\"{metric_label} $(\\tau)$\",\n",
    "    #     ylabel=rf\"Fraction of runs with success rate > $\\tau$\",\n",
    "    #     ax=ax,\n",
    "    #     legend=False,\n",
    "    #     legendsize=\"medium\",\n",
    "    #     grid_alpha=0.4, \n",
    "    #     figsize=(12,8),\n",
    "    #     # use_non_linear_scaling=True\n",
    "    # )\n",
    "    # plt.xlim((0, 0.7))\n",
    "    # plt.tight_layout()\n",
    "    # plt.ylabel(rf\"Fraction of runs with success rate > $\\tau$\", wrap=True)\n",
    "    # plt.savefig(os.path.join(figures_path, f\"{metric_label.replace(' ', '_')}_performance_profile_{single_env if single_env else 'all'}.pdf\"), bbox_inches=\"tight\")\n",
    "    \n",
    "    \n",
    "    # Sample efficiency curve\n",
    "    frames = np.arange(0, 55, 5)\n",
    "    frames[-1] -= 1\n",
    "    ale_frames_scores_dict = {algorithm: score[:, :, frames] for algorithm, score in data.items()}\n",
    "    iqm = lambda scores: np.array([metrics.aggregate_iqm(scores[..., frame]) for frame in range(scores.shape[-1])])\n",
    "    iqm_scores, iqm_cis = rly.get_interval_estimates(ale_frames_scores_dict, iqm, reps=2000)\n",
    "    \n",
    "    # Change to se\n",
    "    if use_se:\n",
    "        for key, elem in iqm_scores.items():\n",
    "            se = np.apply_along_axis(lambda x: x[1]-x[0], axis=0, arr=iqm_cis[key])/2/1.96 \n",
    "            iqm_cis[key] = np.concatenate(((elem-se)[None, :], (elem+se)[None,:]), axis=0)\n",
    "    \n",
    "    plot_utils.plot_sample_efficiency_curve(\n",
    "        frames + 1,\n",
    "        iqm_scores,\n",
    "        iqm_cis,\n",
    "        algorithms=list(data.keys()),\n",
    "        xlabel=r\"Number of environment steps (in millions)\",\n",
    "        ylabel=metric_label,\n",
    "        legend=False,\n",
    "        grid_alpha=0.4,\n",
    "        figsize=(8, 6),\n",
    "    )\n",
    "    plt.title(f\"{env_title_mapping[single_env] if single_env else ''}\", fontsize=\"xx-large\")\n",
    "    plt.tight_layout()\n",
    "    plt.savefig(os.path.join(figures_path, f\"{metric_label.replace(' ', '_')}_{single_env if single_env else 'all'}.pdf\"))\n",
    "    \n",
    "    \n",
    "    # Interval estimate\n",
    "    aggregate_func = lambda x: np.array(\n",
    "    [\n",
    "        metrics.aggregate_iqm(x),\n",
    "    ]\n",
    "    )\n",
    "    aggregate_scores, aggregate_score_cis = rly.get_interval_estimates(\n",
    "        data_flattened, aggregate_func, reps=500\n",
    "    )\n",
    "    \n",
    "    # Change to se\n",
    "    if use_se:\n",
    "        for key, elem in aggregate_scores.items():\n",
    "            se = (aggregate_score_cis[key][1]-aggregate_score_cis[key][0])/2/1.96 \n",
    "            aggregate_score_cis[key] = np.concatenate(((elem-se)[None, :], (elem+se)[None,:]), axis=0)\n",
    "\n",
    "    fig, axes = plot_utils.plot_interval_estimates(\n",
    "        aggregate_scores,\n",
    "        aggregate_score_cis,\n",
    "        metric_names=[\"IQM\"],\n",
    "        algorithms=list(data.keys()),\n",
    "        xlabel=f\"{metric_label}\",\n",
    "        grid_alpha=0.4,\n",
    "        max_ticks=3,\n",
    "        subfigure_width=4,\n",
    "        xlabel_y_coordinate=-0.1,\n",
    "    )\n",
    "    plt.subplots_adjust(wspace=0.2, left=0.0)\n",
    "    \n",
    "    plt.savefig(\n",
    "        os.path.join(figures_path, f\"{metric_label.replace(' ', '_')}_all_interval_estimate.pdf\"), bbox_inches=\"tight\"\n",
    "    )"
   ],
   "id": "9437849fb5dabe44",
   "execution_count": 9,
   "outputs": []
  },
  {
   "metadata": {
    "ExecuteTime": {
     "end_time": "2024-08-20T12:43:23.853069Z",
     "start_time": "2024-08-20T12:43:23.851502Z"
    }
   },
   "cell_type": "code",
   "source": "",
   "id": "68d668c4537be7a9",
   "execution_count": null,
   "outputs": []
  }
 ],
 "metadata": {
  "kernelspec": {
   "display_name": "Python 3",
   "language": "python",
   "name": "python3"
  },
  "language_info": {
   "codemirror_mode": {
    "name": "ipython",
    "version": 2
   },
   "file_extension": ".py",
   "mimetype": "text/x-python",
   "name": "python",
   "nbconvert_exporter": "python",
   "pygments_lexer": "ipython2",
   "version": "2.7.6"
  }
 },
 "nbformat": 4,
 "nbformat_minor": 5
}
